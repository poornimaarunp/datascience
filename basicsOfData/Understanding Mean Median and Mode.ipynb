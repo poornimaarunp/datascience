{
 "cells": [
  {
   "cell_type": "markdown",
   "metadata": {},
   "source": [
    "## Understanding Mean Median and Mode\n",
    "\n",
    "Most of us would have covered this during our elementary school and it should be a review for us. Lets relook at it and appreciate the differences and how these techniques are used.\n",
    "\n",
    "### Mean\n",
    "\n",
    "- Mean = Sum of all the samples / number of samples\n",
    "- Example: Lets take the number of burgers each guest had during a certain party\n",
    "        0,2,3,2,1,0,0,2,0\n",
    "   The MEAN is (0+2+3+2+1+0+0+2+0)/9 = 1.11\n",
    "   \n",
    "### Median\n",
    "\n",
    "- Sort the values and take the value at the midpoint\n",
    "- Example\n",
    "    \n",
    "    Sorted Values - 0,0,0,0,1,2,2,2,3 - Here the midpoint is 1\n",
    "- In case the number of samples was even, the midpoint is the average of two mid values\n",
    "- Median is less susceptible to outlier than mean - Lets see how in the exercise below.\n",
    "\n",
    "### Mode\n",
    "\n",
    "- We dont really use this in practice, but it is good to know \n",
    "- The most common value in the data set \n",
    "- it makes more relevant to be used on a discrete numerical data\n",
    "- Example\n",
    "    \n",
    "    in the example we took above, \n",
    "        the number of 0s = 4\n",
    "        the number of 1s = 1\n",
    "        the number of 2s = 3\n",
    "        the number of 3s = 1\n",
    "        \n",
    "        So, the mode here is 0\n",
    "    "
   ]
  },
  {
   "cell_type": "markdown",
   "metadata": {},
   "source": [
    "### Income example\n",
    "\n",
    "Lets create some dummy income data centered over 30000 with a normal distribution and standard deviation of 20000 and with 10000 data points"
   ]
  },
  {
   "cell_type": "code",
   "execution_count": 5,
   "metadata": {
    "collapsed": false
   },
   "outputs": [],
   "source": [
    "import numpy as np\n",
    "import matplotlib.pyplot as plt"
   ]
  },
  {
   "cell_type": "code",
   "execution_count": 6,
   "metadata": {
    "collapsed": true
   },
   "outputs": [],
   "source": [
    "income = np.random.normal(30000,20000,10000)"
   ]
  },
  {
   "cell_type": "markdown",
   "metadata": {},
   "source": [
    "We can segment the income data into 50 buckets and plot a histogram for viewing the distribution"
   ]
  },
  {
   "cell_type": "code",
   "execution_count": 8,
   "metadata": {
    "collapsed": false
   },
   "outputs": [
    {
     "data": {
      "image/png": "[encoded data removed]",
      "text/plain": [
       "<matplotlib.figure.Figure at 0x10bfc27f0>"
      ]
     },
     "metadata": {},
     "output_type": "display_data"
    }
   ],
   "source": [
    "plt.hist(income,bins=50)\n",
    "plt.show()"
   ]
  },
  {
   "cell_type": "markdown",
   "metadata": {},
   "source": [
    "Lets compute the mean and median for this data"
   ]
  },
  {
   "cell_type": "code",
   "execution_count": 10,
   "metadata": {
    "collapsed": false
   },
   "outputs": [
    {
     "name": "stdout",
     "output_type": "stream",
     "text": [
      "Mean is: 29949.359623\n",
      "Median is: 29725.0079773\n"
     ]
    }
   ],
   "source": [
    "print(\"Mean is:\",np.mean(income))\n",
    "print(\"Median is:\",np.median(income))"
   ]
  },
  {
   "cell_type": "markdown",
   "metadata": {},
   "source": [
    "\n",
    "The mean and median is always close to 30000 since the data is evenly distributed around 30000\n",
    "\n",
    "#### How does it change when there is an outlier?\n",
    "\n",
    "Suppose there is a person whose income is around 10000000000.\n",
    "\n",
    "Lets add this value to our dataset and calculate mean and median"
   ]
  },
  {
   "cell_type": "code",
   "execution_count": 26,
   "metadata": {
    "collapsed": true
   },
   "outputs": [],
   "source": [
    "income = np.append(income,[10000000000])"
   ]
  },
  {
   "cell_type": "markdown",
   "metadata": {},
   "source": [
    "Lets calculate the mean and median for the data"
   ]
  },
  {
   "cell_type": "code",
   "execution_count": 27,
   "metadata": {
    "collapsed": false
   },
   "outputs": [
    {
     "name": "stdout",
     "output_type": "stream",
     "text": [
      "Mean is: 1029122.14748\n",
      "Median is: 29766.963894\n"
     ]
    }
   ],
   "source": [
    "print(\"Mean is:\",np.mean(income))\n",
    "print(\"Median is:\",np.median(income))"
   ]
  },
  {
   "cell_type": "markdown",
   "metadata": {},
   "source": [
    "Notice that the Mean is skewed due to the outlier and Median remains almost same. \n",
    "\n",
    "If we consider mean for arriving at a conclusion for a dataset and if the dataset has an outlier, the results are skewed and the inference may go wrong. So we have to be careful while choosing between mean or median for arriving at the results\n",
    "\n",
    "#### Mode\n",
    "\n",
    "Lets generate another set of data for age for 500 people"
   ]
  },
  {
   "cell_type": "code",
   "execution_count": 36,
   "metadata": {
    "collapsed": false
   },
   "outputs": [
    {
     "data": {
      "text/plain": [
       "array([39, 72, 35, 63, 76, 75, 68, 81, 55, 89, 82, 31, 66, 62, 64, 60, 44,\n",
       "       59, 25, 68, 83, 32, 89, 26, 83, 70, 56, 28, 48, 42, 22, 39, 22, 30,\n",
       "       82, 21, 23, 31, 86, 75, 59, 43, 81, 43, 83, 53, 83, 73, 19, 75, 74,\n",
       "       60, 46, 40, 65, 44, 24, 56, 46, 60, 19, 54, 47, 64, 53, 59, 59, 85,\n",
       "       43, 37, 50, 77, 56, 20, 31, 31, 57, 38, 54, 87, 72, 73, 46, 88, 45,\n",
       "       58, 62, 29, 57, 64, 28, 55, 87, 80, 47, 20, 18, 53, 24, 46, 38, 85,\n",
       "       25, 55, 46, 79, 54, 76, 60, 50, 36, 75, 79, 45, 69, 43, 49, 34, 25,\n",
       "       72, 38, 42, 72, 66, 78, 65, 32, 50, 34, 39, 41, 19, 77, 54, 54, 76,\n",
       "       25, 59, 34, 81, 50, 51, 48, 36, 62, 51, 64, 18, 51, 84, 26, 20, 55,\n",
       "       28, 32, 89, 77, 29, 87, 69, 68, 68, 55, 72, 84, 89, 73, 59, 36, 64,\n",
       "       88, 82, 89, 27, 29, 62, 78, 44, 36, 67, 35, 21, 30, 31, 45, 41, 36,\n",
       "       26, 20, 37, 36, 24, 81, 44, 45, 53, 57, 37, 43, 34, 73, 41, 85, 73,\n",
       "       88, 50, 43, 45, 67, 72, 75, 88, 74, 42, 83, 32, 86, 18, 66, 39, 54,\n",
       "       28, 81, 35, 18, 50, 33, 58, 70, 36, 22, 21, 56, 29, 42, 41, 51, 71,\n",
       "       26, 50, 61, 28, 75, 51, 39, 57, 73, 49, 58, 24, 50, 73, 23, 73, 56,\n",
       "       88, 74, 47, 43, 18, 75, 38, 29, 47, 19, 25, 55, 64, 41, 34, 88, 66,\n",
       "       34, 62, 48, 38, 79, 19, 66, 89, 76, 20, 80, 45, 37, 55, 44, 30, 86,\n",
       "       41, 40, 36, 84, 85, 46, 85, 54, 51, 41, 57, 71, 80, 60, 24, 49, 23,\n",
       "       77, 69, 88, 30, 19, 57, 63, 77, 72, 49, 65, 61, 38, 85, 60, 42, 63,\n",
       "       71, 80, 85, 29, 20, 58, 46, 64, 52, 83, 18, 38, 51, 73, 48, 27, 26,\n",
       "       62, 38, 27, 24, 78, 70, 73, 53, 57, 27, 59, 32, 18, 80, 20, 74, 78,\n",
       "       25, 89, 33, 24, 24, 22, 39, 58, 76, 22, 19, 67, 53, 75, 19, 67, 75,\n",
       "       53, 19, 21, 46, 58, 57, 84, 82, 28, 45, 82, 25, 31, 38, 28, 67, 83,\n",
       "       85, 41, 76, 29, 89, 44, 76, 28, 71, 68, 24, 69, 24, 59, 50, 23, 38,\n",
       "       78, 49, 83, 29, 42, 28, 84, 64, 32, 77, 49, 37, 67, 63, 50, 44, 69,\n",
       "       54, 48, 78, 37, 25, 79, 23, 57, 83, 72, 67, 87, 59, 20, 67, 61, 63,\n",
       "       28, 62, 52, 68, 66, 28, 27, 53, 87, 55, 46, 34, 24, 32, 43, 80, 75,\n",
       "       34, 24, 80, 22, 40, 19, 69, 43, 36, 68, 32, 73, 24, 31, 40, 29, 38,\n",
       "       29, 41, 66, 65, 87, 35, 64, 40, 72, 27, 28, 33, 76, 41, 52, 60, 80,\n",
       "       24, 41, 38, 73, 66, 23, 83])"
      ]
     },
     "execution_count": 36,
     "metadata": {},
     "output_type": "execute_result"
    }
   ],
   "source": [
    "age = np.random.randint(18,high=90,size=500)\n",
    "age"
   ]
  },
  {
   "cell_type": "code",
   "execution_count": 37,
   "metadata": {
    "collapsed": false
   },
   "outputs": [
    {
     "data": {
      "text/plain": [
       "ModeResult(mode=array([24]), count=array([14]))"
      ]
     },
     "execution_count": 37,
     "metadata": {},
     "output_type": "execute_result"
    }
   ],
   "source": [
    "from scipy import stats\n",
    "stats.mode(age)"
   ]
  }
 ],
 "metadata": {
  "kernelspec": {
   "display_name": "Python [conda root]",
   "language": "python",
   "name": "conda-root-py"
  },
  "language_info": {
   "codemirror_mode": {
    "name": "ipython",
    "version": 3
   },
   "file_extension": ".py",
   "mimetype": "text/x-python",
   "name": "python",
   "nbconvert_exporter": "python",
   "pygments_lexer": "ipython3",
   "version": "3.5.2"
  }
 },
 "nbformat": 4,
 "nbformat_minor": 2
}
