{
 "cells": [
  {
   "cell_type": "markdown",
   "metadata": {},
   "source": [
    "## Understanding Standard deviation and Variance\n",
    "\n",
    "Variation and standard deviation describe the distribution of the data\n",
    "\n",
    "##### Variation measures how \"spread-out\" the data is \n",
    "\n",
    "- Variance (σ2) is simply the average of the squared differences from the mean\n",
    "- Example\n",
    "    \n",
    "    What is the variance of the data [1,4,5,4,8]?\n",
    "    \n",
    "    1. First find the mean of the data         --> (1+4+5+4+8)/5 = 4.4\n",
    "    2. Now find the differences from the mean  --> (-3.4,-0.4,0.6,-0.4,3.6)\n",
    "    3. Now find the squared differences        --> (11.56, 0.16, 0.36, 0.16, 0.96)\n",
    "    4. Find the average of the squared differences\n",
    "        \n",
    "        σ2 = (11.56, 0.16, 0.36, 0.16, 0.96)/5 = 5.04\n",
    "        \n",
    "##### Standard deviation σ is just the square root of the variance\n",
    "\n",
    "Now, typically we talk about the standard deviation of the data more than compared to variance\n",
    "\n",
    "        σ = √5.04 = 2.24\n",
    "\n",
    "This is usually used as a way to identify the outliers. Data points that lie more than one standard deviation from the mean can be considered unusual\n",
    "\n",
    "In a real world problem, to identify how extreme is the data point, we can find how many sigmas away from the mean it is.\n",
    "\n",
    "There is a little nuance about standard deviation and variance. Lets understand this through the below example\n",
    "\n",
    "##### Population Vs Sample\n",
    "\n",
    "if you are working with a sample of data instead of the entire data set (the entire populaton)\n",
    "    \n",
    "    - Then you want to use the \"sample variance\" instead of the \"population variance\"\n",
    "    - for N samples, you just divide the squared variances by N-1 instead of N\n",
    "    - So in our example, we computed the population variance like this\n",
    "        σ2 = (11.56, 0.16, 0.36, 0.16, 0.96)/5 = 5.04\n",
    "    - But the sample variance would be \n",
    "        S2 = (11.56, 0.16, 0.36, 0.16, 0.96)/4 = 6.3\n",
    "        \n",
    "        \n",
    "## Standard Deviation and Variance"
   ]
  },
  {
   "cell_type": "code",
   "execution_count": 2,
   "metadata": {
    "collapsed": false
   },
   "outputs": [
    {
     "data": {
      "image/png": "[encoded data removed]",
      "text/plain": [
       "<matplotlib.figure.Figure at 0x10c363b38>"
      ]
     },
     "metadata": {},
     "output_type": "display_data"
    }
   ],
   "source": [
    "%matplotlib inline\n",
    "import numpy as np\n",
    "import matplotlib.pyplot as plt\n",
    "\n",
    "income = np.random.normal(100.0, 50.0, 10000)\n",
    "\n",
    "plt.hist(incomes, 50)\n",
    "plt.show()"
   ]
  },
  {
   "cell_type": "code",
   "execution_count": 3,
   "metadata": {
    "collapsed": false
   },
   "outputs": [
    {
     "data": {
      "text/plain": [
       "49.641386296708667"
      ]
     },
     "execution_count": 3,
     "metadata": {},
     "output_type": "execute_result"
    }
   ],
   "source": [
    "income.std()"
   ]
  },
  {
   "cell_type": "code",
   "execution_count": 4,
   "metadata": {
    "collapsed": false
   },
   "outputs": [
    {
     "data": {
      "text/plain": [
       "2464.2672334590552"
      ]
     },
     "execution_count": 4,
     "metadata": {},
     "output_type": "execute_result"
    }
   ],
   "source": [
    "income.var()"
   ]
  }
 ],
 "metadata": {
  "kernelspec": {
   "display_name": "Python [conda root]",
   "language": "python",
   "name": "conda-root-py"
  },
  "language_info": {
   "codemirror_mode": {
    "name": "ipython",
    "version": 3
   },
   "file_extension": ".py",
   "mimetype": "text/x-python",
   "name": "python",
   "nbconvert_exporter": "python",
   "pygments_lexer": "ipython3",
   "version": "3.5.2"
  }
 },
 "nbformat": 4,
 "nbformat_minor": 2
}
